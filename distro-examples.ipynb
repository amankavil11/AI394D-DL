{
 "cells": [
  {
   "cell_type": "code",
   "execution_count": 1,
   "id": "d95cdf36",
   "metadata": {},
   "outputs": [],
   "source": [
    "import torch\n",
    "import torch.distributions as dist\n"
   ]
  },
  {
   "cell_type": "code",
   "execution_count": null,
   "id": "0f0f2e22",
   "metadata": {},
   "outputs": [
    {
     "name": "stdout",
     "output_type": "stream",
     "text": [
      "tensor([[0.],\n",
      "        [1.],\n",
      "        [1.],\n",
      "        [1.],\n",
      "        [1.],\n",
      "        [0.],\n",
      "        [0.],\n",
      "        [1.],\n",
      "        [1.],\n",
      "        [1.]])\n"
     ]
    }
   ],
   "source": [
    "# Create Bernoulli distribution\n",
    "bernoulli_dist = dist.Bernoulli(torch.tensor([0.5])) #50% chance of producing 1 or 0\n",
    "# Sample from the distribution ten times\n",
    "samples = bernoulli_dist.sample((10,))\n",
    "print(samples)"
   ]
  },
  {
   "cell_type": "code",
   "execution_count": 5,
   "id": "408a6956",
   "metadata": {},
   "outputs": [
    {
     "name": "stdout",
     "output_type": "stream",
     "text": [
      "Mean: 0.47200000286102295\n",
      "Variance: 0.2494654655456543\n"
     ]
    }
   ],
   "source": [
    "# Sample Bern. Distro 1000 times and calculate the mean\n",
    "samples = bernoulli_dist.sample((1000,))\n",
    "print(f\"Mean: {torch.mean(samples)}\")\n",
    "print(f\"Variance: {torch.var(samples)}\")"
   ]
  },
  {
   "cell_type": "code",
   "execution_count": 6,
   "id": "e620b916",
   "metadata": {},
   "outputs": [
    {
     "name": "stdout",
     "output_type": "stream",
     "text": [
      "tensor([[ 1.0425],\n",
      "        [-0.4118],\n",
      "        [ 1.0428],\n",
      "        [-0.5106],\n",
      "        [-0.0201],\n",
      "        [ 0.6680],\n",
      "        [-1.2670],\n",
      "        [-0.5817],\n",
      "        [ 0.5315],\n",
      "        [-1.7696]])\n"
     ]
    }
   ],
   "source": [
    "# Create a Gaussian or Normal distribution\n",
    "normal_dist = dist.Normal(torch.tensor([0.0]), torch.tensor([1.0]))  # mean=0, std=1\n",
    "# Sample from the distribution ten times\n",
    "samples = normal_dist.sample((10,))\n",
    "print(samples)"
   ]
  },
  {
   "cell_type": "code",
   "execution_count": 7,
   "id": "74e819cf",
   "metadata": {},
   "outputs": [
    {
     "name": "stdout",
     "output_type": "stream",
     "text": [
      "Mean: 0.01273784227669239\n",
      "Variance: 1.0750548839569092\n"
     ]
    }
   ],
   "source": [
    "# Sample Gaussian Distro 1000 times and calculate the mean\n",
    "samples = normal_dist.sample((1000,))\n",
    "print(f\"Mean: {torch.mean(samples)}\")\n",
    "print(f\"Variance: {torch.var(samples)}\")"
   ]
  }
 ],
 "metadata": {
  "kernelspec": {
   "display_name": "DLenv",
   "language": "python",
   "name": "python3"
  },
  "language_info": {
   "codemirror_mode": {
    "name": "ipython",
    "version": 3
   },
   "file_extension": ".py",
   "mimetype": "text/x-python",
   "name": "python",
   "nbconvert_exporter": "python",
   "pygments_lexer": "ipython3",
   "version": "3.9.20"
  }
 },
 "nbformat": 4,
 "nbformat_minor": 5
}
